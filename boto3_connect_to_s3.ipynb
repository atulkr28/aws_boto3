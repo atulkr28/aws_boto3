{
 "metadata": {
  "language_info": {
   "codemirror_mode": {
    "name": "ipython",
    "version": 3
   },
   "file_extension": ".py",
   "mimetype": "text/x-python",
   "name": "python",
   "nbconvert_exporter": "python",
   "pygments_lexer": "ipython3",
   "version": "3.8.1"
  },
  "orig_nbformat": 2,
  "kernelspec": {
   "name": "python381jvsc74a57bd07c3f537a29abf7f48cae97ee20eea5b66a5b3aad9da65b5b46a0ca06f08e004c",
   "display_name": "Python 3.8.1 32-bit ('awsenv': venv)"
  },
  "metadata": {
   "interpreter": {
    "hash": "7c3f537a29abf7f48cae97ee20eea5b66a5b3aad9da65b5b46a0ca06f08e004c"
   }
  }
 },
 "nbformat": 4,
 "nbformat_minor": 2,
 "cells": [
  {
   "source": [
    "# AWS S3\n",
    "Amazon S3 or Amazon Simple Storage Service is a service offered by Amazon Web Services that provides object storage through a web service interface.\n",
    "\n",
    "## Creating S3 Bucket\n",
    "* First create boto3 client \n",
    "\n",
    "* If boto3 is not installed, use [pip install boto3](https://pypi.org/project/boto3/)\n"
   ],
   "cell_type": "markdown",
   "metadata": {}
  },
  {
   "cell_type": "code",
   "execution_count": 1,
   "metadata": {},
   "outputs": [],
   "source": [
    "#Import packages\n",
    "import os\n",
    "import boto3\n",
    "from botocore.exceptions import ClientError\n",
    "import pandas as pd "
   ]
  },
  {
   "cell_type": "code",
   "execution_count": 2,
   "metadata": {},
   "outputs": [],
   "source": [
    "def get_aws_credentials():\n",
    "    \"\"\" This function helps to retrieve the aws credentials from system\n",
    "\n",
    "    Parameters:\n",
    "    -----------\n",
    "        aws_credentials_file_path : path of credentials file in .aws folder \n",
    "        AWS_ACCESS_KEY_ID         : stores AWS_ACCESS_KEY_ID\n",
    "        AWS_SECRET_ACCESS_KEY     : stores AWS_SECRET_ACCESS_KEY\n",
    "\n",
    "    Returns:\n",
    "    ---------\n",
    "    AWS_ACCESS_KEY_ID (str)\n",
    "    AWS_SECRET_ACCESS_KEY (str)\n",
    "\n",
    "    \"\"\"\n",
    "\n",
    "    aws_credentials_file_path = os.path.expanduser(\"~/.aws/credentials\")\n",
    "\n",
    "    with open(aws_credentials_file_path) as f:\n",
    "        for line in f:\n",
    "            if 'aws_secret_access_key' in line:\n",
    "                AWS_SECRET_ACCESS_KEY = line.strip().split(\"=\")[1]\n",
    "\n",
    "            elif 'aws_access_key_id' in line:\n",
    "                AWS_ACCESS_KEY_ID = line.strip().split(\"=\")[1]\n",
    "\n",
    "    return AWS_ACCESS_KEY_ID.strip(), AWS_SECRET_ACCESS_KEY.strip()\n",
    "\n",
    "AWS_ACCESS_KEY_ID, AWS_SECRET_ACCESS_KEY = get_aws_credentials()"
   ]
  },
  {
   "cell_type": "code",
   "execution_count": 3,
   "metadata": {},
   "outputs": [],
   "source": [
    "s3 = boto3.client('s3',\n",
    "    region_name = 'us-east-1',\n",
    "    aws_access_key_id = AWS_ACCESS_KEY_ID,\n",
    "    aws_secret_access_key = AWS_SECRET_ACCESS_KEY)"
   ]
  },
  {
   "source": [
    "#### NEVER HARD CODE SECRET ACCESS KEY & ID IN CODE"
   ],
   "cell_type": "markdown",
   "metadata": {}
  },
  {
   "cell_type": "code",
   "execution_count": 9,
   "metadata": {},
   "outputs": [],
   "source": [
    "#Create a Bucket\n",
    "bucket = s3.create_bucket(Bucket='s3demo00001')"
   ]
  },
  {
   "cell_type": "code",
   "execution_count": 10,
   "metadata": {},
   "outputs": [],
   "source": [
    "#List Buckets\n",
    "bucket_response = s3.list_buckets()"
   ]
  },
  {
   "cell_type": "code",
   "execution_count": 12,
   "metadata": {},
   "outputs": [],
   "source": [
    "#Delete a Bucket\n",
    "delete_response = s3.delete_bucket(Bucket ='atuldemo00001')"
   ]
  },
  {
   "source": [],
   "cell_type": "markdown",
   "metadata": {}
  }
 ]
}